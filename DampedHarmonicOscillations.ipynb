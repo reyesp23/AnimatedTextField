{
 "cells": [
  {
   "cell_type": "code",
   "execution_count": 149,
   "id": "8038b583",
   "metadata": {},
   "outputs": [],
   "source": [
    "import math\n",
    "import numpy as np\n",
    "import matplotlib.pyplot as plt"
   ]
  },
  {
   "cell_type": "markdown",
   "id": "3f0e21c7",
   "metadata": {},
   "source": [
    "## Damped Harmonic Oscillations"
   ]
  },
  {
   "cell_type": "markdown",
   "id": "307e267a",
   "metadata": {},
   "source": [
    "#### Spring parameters\n",
    "\n",
    "stiffness $ \\begin{equation*}\n",
    "k\\ =\\ \\left(\\frac{2\\pi }{H}\\right)^{2} m\n",
    "\\end{equation*} $\n",
    "\n",
    "damping coefficient $ \\begin{equation*}\n",
    "q\\ =\\ \\ \\frac{4\\pi \\zeta m}{H}\n",
    "\\end{equation*} $\n",
    "\n",
    "undamped natural frequency $ \\begin{equation*}\n",
    "\\omega _{n} =\\sqrt{\\frac{k}{m}}\n",
    "\\end{equation*} $\n",
    "\n",
    "damped natural frequency $ \\begin{equation*}\n",
    "\\omega _{d} =\\omega _{n}\\sqrt{1-\\zeta ^{2}}\n",
    "\\end{equation*} $\n",
    "\n",
    "\n",
    "\n",
    "#### Calculate position\n",
    "\n",
    "$$\n",
    "\\begin{equation*}\n",
    "y\\ =\\ e^{-at} \\ [ c\\ sin( bt) \\ +\\ d\\ cos( bt)]\n",
    "\\end{equation*}\n",
    "$$\n",
    "\n",
    "$$\\begin{gather*}\n",
    "a\\ =\\ \\omega _{n} \\ \\zeta \\\\\n",
    "b\\ =\\ \\omega _{d}\\\\\n",
    "c\\ =\\ y_{0}\\\\\n",
    "d\\ =\\ \\ \\frac{v_{0} \\ +\\ a\\ y_{0}}{\\omega _{d}}\n",
    "\\end{gather*}\n",
    "$$"
   ]
  },
  {
   "cell_type": "code",
   "execution_count": 150,
   "id": "f6a91641",
   "metadata": {},
   "outputs": [],
   "source": [
    "class DampedSpring:\n",
    "    def __init__(self, frequencyResponse, dampingRatio):\n",
    "        \n",
    "        mass = 1\n",
    "        stiffness = (((2 * math.pi) / frequencyResponse)**2) * mass\n",
    "        dampingCoefficient = (4 * math.pi * dampingRatio * mass) / frequencyResponse\n",
    "        undampedNaturalFrequency = math.sqrt(stiffness / mass)\n",
    "        dampedNaturalFrequency = undampedNaturalFrequency * math.sqrt(abs(1 - (dampingRatio)**2))\n",
    "        \n",
    "        self.frequencyResponse = frequencyResponse\n",
    "        self.dampingRatio = dampingRatio\n",
    "        self.mass = mass\n",
    "        self.stiffness = stiffness\n",
    "        self.dampingCoefficient = dampingCoefficient\n",
    "        self.undampedNaturalFrequency = undampedNaturalFrequency\n",
    "        self.dampedNaturalFrequency = dampedNaturalFrequency\n",
    "    \n",
    "    def calculatePosition(self, t, initialPosition, initialVelocity=0):\n",
    "        a = self.undampedNaturalFrequency * self.dampingRatio\n",
    "        b = self.dampedNaturalFrequency\n",
    "        c = (initialVelocity + a * initialPosition) / b\n",
    "        d = initialPosition\n",
    "        return math.exp(-a * t) * (c * math.sin(b * t) + (d * math.cos(b * t)))"
   ]
  },
  {
   "cell_type": "markdown",
   "id": "aa3cc4bc",
   "metadata": {},
   "source": [
    "#### Interactive plot"
   ]
  },
  {
   "cell_type": "code",
   "execution_count": 158,
   "id": "47f811e1",
   "metadata": {},
   "outputs": [
    {
     "data": {
      "application/vnd.jupyter.widget-view+json": {
       "model_id": "f437730fde634ca5876dff1993abb280",
       "version_major": 2,
       "version_minor": 0
      },
      "text/plain": [
       "interactive(children=(FloatSlider(value=0.5, continuous_update=False, description='damping', max=0.99, step=0.…"
      ]
     },
     "metadata": {},
     "output_type": "display_data"
    }
   ],
   "source": [
    "%matplotlib inline\n",
    "from ipywidgets import interactive, widgets\n",
    "\n",
    "\n",
    "def f(**kwargs):\n",
    "    dampingRatio = kwargs['damping']\n",
    "    response = kwargs['response']\n",
    "    \n",
    "    duration = 1\n",
    "    frameRate = 60\n",
    "    frames = duration * frameRate\n",
    "    freq_response = frames*response \n",
    "    \n",
    "    bins = np.arange(0, frames, 1)\n",
    "    spring = DampedSpring(freq_response, dampingRatio)\n",
    "    y = [spring.calculatePosition(t, -1, 0) for t in bins]\n",
    "  \n",
    "    plt.figure(1, figsize=(10,7))\n",
    "    plt.plot(y, color = 'green')\n",
    "    plt.grid(True)\n",
    "    plt.ylabel('Position')\n",
    "    plt.xlabel('Frame')\n",
    "    plt.show()\n",
    "\n",
    "sldr = lambda v, mi, ma, stp: widgets.FloatSlider(value=v, \n",
    "                                                  min=mi, \n",
    "                                                  max=ma, \n",
    "                                                  step=stp,\n",
    "                                                  continuous_update=False)\n",
    "sliders = [\n",
    "    ['damping', [0.5, 0., 0.99,0.01]],\n",
    "    ['response', [0.5, 0.01, 1, 0.01]]\n",
    "]\n",
    "\n",
    "interactive(f, **{slider[0] : sldr(*slider[1]) for slider in sliders})"
   ]
  }
 ],
 "metadata": {
  "kernelspec": {
   "display_name": "Python 3 (ipykernel)",
   "language": "python",
   "name": "python3"
  },
  "language_info": {
   "codemirror_mode": {
    "name": "ipython",
    "version": 3
   },
   "file_extension": ".py",
   "mimetype": "text/x-python",
   "name": "python",
   "nbconvert_exporter": "python",
   "pygments_lexer": "ipython3",
   "version": "3.9.7"
  }
 },
 "nbformat": 4,
 "nbformat_minor": 5
}
